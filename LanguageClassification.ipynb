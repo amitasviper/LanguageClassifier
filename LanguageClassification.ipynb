{
 "cells": [
  {
   "cell_type": "code",
   "execution_count": 1,
   "metadata": {},
   "outputs": [],
   "source": [
    "from sklearn.feature_extraction.text import CountVectorizer"
   ]
  },
  {
   "cell_type": "code",
   "execution_count": 56,
   "metadata": {},
   "outputs": [],
   "source": [
    "import os\n",
    "def readFiles(extension, directory):\n",
    "    files = os.listdir(os.path.join(os.getcwd(), 'data', directory))\n",
    "    data = []\n",
    "    for onefile in files:\n",
    "        filename, ext = os.path.splitext(onefile)\n",
    "        text = \"\"\n",
    "        if ext.lower() == extension.lower():\n",
    "            with open(os.path.join('data', directory, onefile), 'r') as f:\n",
    "                text = f.read()\n",
    "            data.append(text)\n",
    "    return data\n",
    "\n",
    "def prepareData(data, languageIndex):\n",
    "    y = [languageIndex]*len(data)\n",
    "    return y"
   ]
  },
  {
   "cell_type": "code",
   "execution_count": 57,
   "metadata": {},
   "outputs": [
    {
     "name": "stdout",
     "output_type": "stream",
     "text": [
      "542\n"
     ]
    }
   ],
   "source": [
    "target_names = ['C', 'Java', 'Python']\n",
    "\n",
    "c_data = readFiles('.c', 'train')\n",
    "java_data = readFiles('.java', 'train')\n",
    "python_data = readFiles('.py', 'train')\n",
    "\n",
    "x_data = []\n",
    "y_data = []\n",
    "\n",
    "x_data += c_data\n",
    "y_data += prepareData(c_data, target_names.index('C'))\n",
    "\n",
    "x_data += java_data\n",
    "y_data += prepareData(java_data, target_names.index('Java'))\n",
    "\n",
    "x_data += python_data\n",
    "y_data += prepareData(python_data, target_names.index('Python'))\n",
    "\n",
    "print len(y_data)"
   ]
  },
  {
   "cell_type": "code",
   "execution_count": 58,
   "metadata": {},
   "outputs": [],
   "source": [
    "count_vectorizer = CountVectorizer()\n",
    "X_train_counts = count_vectorizer.fit_transform(x_data)"
   ]
  },
  {
   "cell_type": "code",
   "execution_count": 59,
   "metadata": {},
   "outputs": [
    {
     "name": "stdout",
     "output_type": "stream",
     "text": [
      "(542, 20488)\n"
     ]
    }
   ],
   "source": [
    "print X_train_counts.shape"
   ]
  },
  {
   "cell_type": "code",
   "execution_count": 60,
   "metadata": {},
   "outputs": [
    {
     "data": {
      "text/plain": [
       "(542, 20488)"
      ]
     },
     "execution_count": 60,
     "metadata": {},
     "output_type": "execute_result"
    }
   ],
   "source": [
    "from sklearn.feature_extraction.text import TfidfTransformer\n",
    "\n",
    "tf_transformer = TfidfTransformer()\n",
    "X_train_tf = tf_transformer.fit_transform(X_train_counts)\n",
    "X_train_tf.shape"
   ]
  },
  {
   "cell_type": "code",
   "execution_count": 61,
   "metadata": {},
   "outputs": [],
   "source": [
    "from sklearn.naive_bayes import MultinomialNB\n",
    "clf = MultinomialNB().fit(X_train_tf, y_data)"
   ]
  },
  {
   "cell_type": "code",
   "execution_count": 71,
   "metadata": {},
   "outputs": [],
   "source": [
    "x_test_data = readFiles('.py', 'test')\n",
    "x_test_data += readFiles('.c', 'test')"
   ]
  },
  {
   "cell_type": "code",
   "execution_count": 72,
   "metadata": {},
   "outputs": [
    {
     "name": "stdout",
     "output_type": "stream",
     "text": [
      "8\n"
     ]
    }
   ],
   "source": [
    "print len(x_test_data)"
   ]
  },
  {
   "cell_type": "code",
   "execution_count": 73,
   "metadata": {},
   "outputs": [
    {
     "name": "stdout",
     "output_type": "stream",
     "text": [
      "Python\n",
      "Python\n",
      "Python\n",
      "Python\n",
      "Python\n",
      "Python\n",
      "Python\n",
      "Java\n"
     ]
    }
   ],
   "source": [
    "X_new_counts = count_vectorizer.transform(x_test_data)\n",
    "X_new_tfidf = tf_transformer.transform(X_new_counts)\n",
    "\n",
    "predicted = clf.predict(X_new_tfidf)\n",
    "\n",
    "for doc, category in zip(x_test_data, predicted):\n",
    "    print('%s' % (target_names[category]))\n"
   ]
  },
  {
   "cell_type": "code",
   "execution_count": 79,
   "metadata": {},
   "outputs": [
    {
     "name": "stdout",
     "output_type": "stream",
     "text": [
      "######  Python  ###### \n",
      "import os\n",
      "        if __name__ == '__main__':\n",
      "        def class People(object):\n",
      "            def __init__(self, name, address):\n",
      "                self.name = name\n",
      "                self.address = address\n",
      "            def __str__(self):\n",
      "                return str(self.name) + str(self.address)\n",
      "            \n",
      "\n",
      "\n",
      "\n",
      "\n",
      "\n",
      "######  Java  ###### \n",
      "package com.structurizr.api;\n",
      "\n",
      "final class HmacContent {\n",
      "\n",
      "    private String[] strings;\n",
      "\n",
      "    HmacContent(String... strings) {\n",
      "        this.strings = strings;\n",
      "    }\n",
      "\n",
      "    @Override\n",
      "    public String toString() {\n",
      "        StringBuilder buf = new StringBuilder();\n",
      "        for (String string : strings) {\n",
      "            buf.append(string);\n",
      "            buf.append(\"\n",
      "\");\n",
      "        }\n",
      "\n",
      "        return buf.toString();\n",
      "    }\n",
      "\n",
      "}\n",
      "\n",
      "\n",
      "\n",
      "\n",
      "\n"
     ]
    }
   ],
   "source": [
    "python = \"\"\"import os\n",
    "        if __name__ == '__main__':\n",
    "        def class People(object):\n",
    "            def __init__(self, name, address):\n",
    "                self.name = name\n",
    "                self.address = address\n",
    "            def __str__(self):\n",
    "                return str(self.name) + str(self.address)\n",
    "            \"\"\"\n",
    "\n",
    "java = \"\"\"package com.structurizr.api;\n",
    "\n",
    "final class HmacContent {\n",
    "\n",
    "    private String[] strings;\n",
    "\n",
    "    HmacContent(String... strings) {\n",
    "        this.strings = strings;\n",
    "    }\n",
    "\n",
    "    @Override\n",
    "    public String toString() {\n",
    "        StringBuilder buf = new StringBuilder();\n",
    "        for (String string : strings) {\n",
    "            buf.append(string);\n",
    "            buf.append(\"\\n\");\n",
    "        }\n",
    "\n",
    "        return buf.toString();\n",
    "    }\n",
    "\n",
    "}\"\"\"\n",
    "\n",
    "x_test_data = [python, java]\n",
    "\n",
    "X_new_counts = count_vectorizer.transform(x_test_data)\n",
    "X_new_tfidf = tf_transformer.transform(X_new_counts)\n",
    "\n",
    "predicted_category = clf.predict(X_new_tfidf)\n",
    "\n",
    "for doc, category in zip(x_test_data, predicted_category):\n",
    "    print \"###### \", target_names[category],\" ######\", '\\n', doc\n",
    "    print '\\n\\n\\n\\n'"
   ]
  },
  {
   "cell_type": "code",
   "execution_count": null,
   "metadata": {},
   "outputs": [],
   "source": []
  }
 ],
 "metadata": {
  "kernelspec": {
   "display_name": "Python 2",
   "language": "python",
   "name": "python2"
  },
  "language_info": {
   "codemirror_mode": {
    "name": "ipython",
    "version": 2
   },
   "file_extension": ".py",
   "mimetype": "text/x-python",
   "name": "python",
   "nbconvert_exporter": "python",
   "pygments_lexer": "ipython2",
   "version": "2.7.14"
  }
 },
 "nbformat": 4,
 "nbformat_minor": 2
}
